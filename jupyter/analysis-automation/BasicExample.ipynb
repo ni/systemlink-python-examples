{
 "cells": [
  {
   "cell_type": "markdown",
   "metadata": {},
   "source": [
    "<table>\n",
    "    <tr>\n",
    "        <td><img src='../SystemLink_icon.png' /></td>\n",
    "        <td ><h1><strong>NI SystemLink Analysis Automation Example - Placeholder</strong></h1></td>\n",
    "    </tr>\n",
    "</table>\n",
    "\n",
    "## Example placeholder\n",
    "***\n",
    "Final version will be added soon.\n",
    "***"
   ]
  }
 ],
 "metadata": {
  "kernelspec": {
   "display_name": "Python 3",
   "language": "python",
   "name": "python3"
  },
  "language_info": {
   "codemirror_mode": {
    "name": "ipython",
    "version": 3
   },
   "file_extension": ".py",
   "mimetype": "text/x-python",
   "name": "python",
   "nbconvert_exporter": "python",
   "pygments_lexer": "ipython3",
   "version": "3.8.5"
  }
 },
 "nbformat": 4,
 "nbformat_minor": 4
}
